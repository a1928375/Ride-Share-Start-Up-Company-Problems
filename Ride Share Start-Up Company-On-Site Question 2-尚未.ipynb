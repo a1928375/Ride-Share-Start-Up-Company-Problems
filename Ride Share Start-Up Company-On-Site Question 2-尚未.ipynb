{
 "cells": [
  {
   "cell_type": "markdown",
   "metadata": {},
   "source": [
    "# Mine-wrong"
   ]
  },
  {
   "cell_type": "code",
   "execution_count": 2,
   "metadata": {},
   "outputs": [],
   "source": [
    "def changes_ways(target, denominations):\n",
    "    \n",
    "    count = 0\n",
    "    \n",
    "    for i in range(2, target+1):\n",
    "        \n",
    "        for j in denominations[1:]:\n",
    "        \n",
    "            if i % j == 0:\n",
    "            \n",
    "                count = count+1\n",
    "                \n",
    "                break\n",
    "    \n",
    "    return 2 * count \n"
   ]
  },
  {
   "cell_type": "code",
   "execution_count": 3,
   "metadata": {},
   "outputs": [
    {
     "name": "stdout",
     "output_type": "stream",
     "text": [
      "32\n",
      "10\n",
      "32\n",
      "134\n"
     ]
    }
   ],
   "source": [
    "print (changes_ways(26, [1,2,5,10,25]))\n",
    "      \n",
    "print (changes_ways(26, [1,5,10,25])) \n",
    "\n",
    "print (changes_ways(26, [1,2,5,10])) \n",
    "\n",
    "print (changes_ways(100, [1, 2, 3]))\n"
   ]
  },
  {
   "cell_type": "markdown",
   "metadata": {},
   "source": [
    "# Instructor"
   ]
  },
  {
   "cell_type": "code",
   "execution_count": 5,
   "metadata": {},
   "outputs": [],
   "source": [
    "def solution(n, coins):\n",
    "    \n",
    "    # Set up our array for trakcing results\n",
    "    arr = [1] + [0] * n\n",
    "    \n",
    "    for coin in coins:\n",
    "        \n",
    "        for i in range(coin, n + 1):\n",
    "            \n",
    "            arr[i] += arr[i - coin]      # If we have 2 ways of making 4, and are now iterating on a coin of value 3, \n",
    "                                         # there should be 2 ways of making 7.  \n",
    "    if n == 0:\n",
    "        \n",
    "        return 0\n",
    "    \n",
    "    else:\n",
    "        \n",
    "        return arr[n]\n",
    "    "
   ]
  },
  {
   "cell_type": "code",
   "execution_count": 6,
   "metadata": {},
   "outputs": [
    {
     "data": {
      "text/plain": [
       "884"
      ]
     },
     "execution_count": 6,
     "metadata": {},
     "output_type": "execute_result"
    }
   ],
   "source": [
    "solution(100, [1, 2, 3])"
   ]
  },
  {
   "cell_type": "code",
   "execution_count": 7,
   "metadata": {},
   "outputs": [
    {
     "data": {
      "text/plain": [
       "121"
      ]
     },
     "execution_count": 7,
     "metadata": {},
     "output_type": "execute_result"
    }
   ],
   "source": [
    "solution(100, [1, 5, 10])"
   ]
  }
 ],
 "metadata": {
  "kernelspec": {
   "display_name": "Python 3",
   "language": "python",
   "name": "python3"
  },
  "language_info": {
   "codemirror_mode": {
    "name": "ipython",
    "version": 3
   },
   "file_extension": ".py",
   "mimetype": "text/x-python",
   "name": "python",
   "nbconvert_exporter": "python",
   "pygments_lexer": "ipython3",
   "version": "3.7.3"
  }
 },
 "nbformat": 4,
 "nbformat_minor": 2
}
