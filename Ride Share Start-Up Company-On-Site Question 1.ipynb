{
 "cells": [
  {
   "cell_type": "markdown",
   "metadata": {},
   "source": [
    "# Mine"
   ]
  },
  {
   "cell_type": "code",
   "execution_count": 4,
   "metadata": {},
   "outputs": [],
   "source": [
    "def merge_sort(arr):\n",
    "    \n",
    "    if len(arr) == 1:\n",
    "        \n",
    "        return arr\n",
    "    \n",
    "    else:\n",
    "        \n",
    "        mid = len(arr) // 2\n",
    "        \n",
    "        left = merge_sort(arr[:mid])\n",
    "        right = merge_sort(arr[mid:])\n",
    "        \n",
    "        i = 0\n",
    "        j = 0\n",
    "        k = 0\n",
    "        \n",
    "        while k < len(arr)-1 and i < len(left) and j < len(right):\n",
    "                    \n",
    "            if left[i] <= right[j]:\n",
    "            \n",
    "                arr[k] = left[i]\n",
    "            \n",
    "                i = i+1\n",
    "            \n",
    "            elif right[j] < left[i]:\n",
    "            \n",
    "                arr[k] = right[j]\n",
    "            \n",
    "                j = j+1\n",
    "        \n",
    "            k = k+1\n",
    "        \n",
    "        while k < len(arr):\n",
    "            \n",
    "            if i < len(left):\n",
    "            \n",
    "                arr[k] = left[i]\n",
    "            \n",
    "                i = i+1\n",
    "        \n",
    "            elif j < len(right):\n",
    "            \n",
    "                arr[k] = right[j]\n",
    "            \n",
    "                j = j+1\n",
    "                \n",
    "            k = k+1\n",
    "            \n",
    "    return arr\n",
    "\n",
    "def max_product(arr):\n",
    "    \n",
    "    if len(arr) == 3:\n",
    "        \n",
    "        return arr[0] * arr[1] * arr[2]\n",
    "    \n",
    "    pre = merge_sort(arr)\n",
    "    \n",
    "    positive = 0 \n",
    "    \n",
    "    mix = 0\n",
    "    \n",
    "    if pre[len(pre)-1] > 0 and pre[len(pre)-2] > 0 and pre[len(pre)-3] >= 0:\n",
    "        \n",
    "        positive = pre[len(pre)-1] * pre[len(pre)-2] * pre[len(pre)-3]\n",
    "        \n",
    "    if pre[0] < 0 and pre[1] < 0:\n",
    "        \n",
    "        mix = pre[0] * pre[1] * pre[len(pre)-1]\n",
    "\n",
    "    return max(positive, mix)\n",
    "        "
   ]
  },
  {
   "cell_type": "code",
   "execution_count": 5,
   "metadata": {},
   "outputs": [
    {
     "name": "stdout",
     "output_type": "stream",
     "text": [
      "168\n",
      "42\n",
      "112\n",
      "48\n",
      "0\n",
      "36\n",
      "21\n",
      "-4\n",
      "763092\n"
     ]
    }
   ],
   "source": [
    "#print (merge_sort(arr))\n",
    "\n",
    "arr = [3,2,8,7]a\n",
    "print (max_product(arr))\n",
    "\n",
    "arr = [3,2,0,7]\n",
    "\n",
    "print (max_product(arr))\n",
    "\n",
    "arr = [-3,2,8,7]\n",
    "\n",
    "print (max_product(arr))\n",
    "\n",
    "arr = [-3,-2,8,7]\n",
    "\n",
    "print (max_product(arr))\n",
    "\n",
    "arr = [-3,2,0,7]\n",
    "\n",
    "print (max_product(arr))\n",
    "\n",
    "arr = [-3,-2,6,0]\n",
    "\n",
    "print (max_product(arr))\n",
    "\n",
    "arr = [-3,-2,-7,1]\n",
    "\n",
    "print (max_product(arr))\n",
    "\n",
    "arr = [1,2,-2]\n",
    "\n",
    "print (max_product(arr))\n",
    "\n",
    "arr = [99,-82,82,40,75,-24,39, -82, 5, 30, -25, -94, 93, -23, 48, 50, 49,-81,41,63]\n",
    "\n",
    "print (max_product(arr))\n"
   ]
  },
  {
   "cell_type": "markdown",
   "metadata": {},
   "source": [
    "# Instructor"
   ]
  },
  {
   "cell_type": "code",
   "execution_count": 10,
   "metadata": {},
   "outputs": [],
   "source": [
    "def max_sum_ret(arr):\n",
    "    \n",
    "    neg_nums = []\n",
    "    pos_nums = []\n",
    " \n",
    "    for i in range(3):          #只抓3 elements\n",
    "        \n",
    "        temp = min(arr)\n",
    "        \n",
    "        neg_nums.append(temp)\n",
    "        \n",
    "        arr.pop(arr.index(temp))\n",
    "        \n",
    "        temp = max(arr)\n",
    "        \n",
    "        pos_nums.append(temp)\n",
    "        \n",
    "        arr.pop(arr.index(temp))\n",
    "        \n",
    "    sumA = pos_nums[0] * pos_nums[1] * pos_nums[2]\n",
    "    sumB = pos_nums[0] * neg_nums[0] * neg_nums[1]\n",
    "    \n",
    "    return max(sumA,sumB)"
   ]
  },
  {
   "cell_type": "code",
   "execution_count": 11,
   "metadata": {},
   "outputs": [
    {
     "name": "stdout",
     "output_type": "stream",
     "text": [
      "763092\n"
     ]
    }
   ],
   "source": [
    "print(max_sum_ret([99,-82,82,40,75,-24,39, -82, 5, 30, -25, -94, 93, -23, 48, 50, 49,-81,41,63]))"
   ]
  }
 ],
 "metadata": {
  "kernelspec": {
   "display_name": "Python 3",
   "language": "python",
   "name": "python3"
  },
  "language_info": {
   "codemirror_mode": {
    "name": "ipython",
    "version": 3
   },
   "file_extension": ".py",
   "mimetype": "text/x-python",
   "name": "python",
   "nbconvert_exporter": "python",
   "pygments_lexer": "ipython3",
   "version": "3.7.3"
  }
 },
 "nbformat": 4,
 "nbformat_minor": 2
}
