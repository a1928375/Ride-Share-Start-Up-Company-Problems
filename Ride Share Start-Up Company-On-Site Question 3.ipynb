{
 "cells": [
  {
   "cell_type": "markdown",
   "metadata": {},
   "source": [
    "# Mine"
   ]
  },
  {
   "cell_type": "code",
   "execution_count": 2,
   "metadata": {},
   "outputs": [
    {
     "name": "stdout",
     "output_type": "stream",
     "text": [
      "True\n"
     ]
    }
   ],
   "source": [
    "class TreeNode:\n",
    "    \n",
    "    def __init__(self, k):\n",
    "        \n",
    "        self.key = k\n",
    "        \n",
    "        #self.value = val\n",
    "        \n",
    "        self.leftchild = None\n",
    "        \n",
    "        self.rightchild = None\n",
    "\n",
    "\n",
    "def check_BST(tree, minval = None, maxval = None):\n",
    "    \n",
    "    if tree == None:\n",
    "        \n",
    "        return True                                            #此處一定要return True，不然底下return result_1 and result_2會wrong\n",
    "\n",
    "    else:\n",
    "        \n",
    "        result_1 = check_BST(tree.leftchild, minval, tree.key)\n",
    "        \n",
    "        result_2 = check_BST(tree.rightchild, tree.key, maxval)\n",
    "    \n",
    "    if minval != None and tree.key < minval:     \n",
    "            \n",
    "        return False\n",
    "    \n",
    "    elif maxval != None and tree.key > maxval:\n",
    "        \n",
    "        return False\n",
    "    \n",
    "    return result_1 and result_2\n",
    "        \n",
    "  \n",
    "root = TreeNode(3)\n",
    "root.rightchild = TreeNode(6)\n",
    "root.leftchild = TreeNode(2)\n",
    "root.rightchild.leftchild = TreeNode(5)\n",
    "root.rightchild.rightchild = TreeNode(7)\n",
    "root.rightchild.rightchild.rightchild = TreeNode(8)\n",
    "\n",
    "#root.leftchild.rightchild = TreeNode(23)\n",
    "\n",
    "print (check_BST(root))"
   ]
  },
  {
   "cell_type": "markdown",
   "metadata": {},
   "source": [
    "# Instructor-1"
   ]
  },
  {
   "cell_type": "code",
   "execution_count": 1,
   "metadata": {},
   "outputs": [],
   "source": [
    "class Node: \n",
    "    \n",
    "    def __init__(self, val=None): \n",
    "        \n",
    "        self.left, self.right, self.val = None, None, val   \n",
    "        \n",
    "INFINITY = float(\"infinity\") \n",
    "NEG_INFINITY = float(\"-infinity\")  \n",
    "\n",
    "def isBST(tree, minVal=NEG_INFINITY, maxVal=INFINITY): \n",
    "    \n",
    "    if tree is None:\n",
    "        \n",
    "        return True   \n",
    "    \n",
    "    if not minVal <= tree.val <= maxVal: \n",
    "        \n",
    "        return False   \n",
    "    \n",
    "    return isBST(tree.left, minVal, tree.val) and isBST(tree.right, tree.val, maxVal) "
   ]
  },
  {
   "cell_type": "markdown",
   "metadata": {},
   "source": [
    "# Instructor-2\n",
    "# Inorder"
   ]
  },
  {
   "cell_type": "code",
   "execution_count": 3,
   "metadata": {},
   "outputs": [],
   "source": [
    "def isBST2(tree, lastNode=[NEG_INFINITY]): \n",
    "    \n",
    "    if tree is None:\n",
    "        \n",
    "        return True   \n",
    "    \n",
    "    if not isBST2(tree.left, lastNode):\n",
    "        \n",
    "        return False   \n",
    "    \n",
    "    if tree.val < lastNode[0]: \n",
    "        \n",
    "        return False   \n",
    "    \n",
    "    lastNode[0]=tree.val   \n",
    "    \n",
    "    return isBST2(tree.right, lastNode) "
   ]
  }
 ],
 "metadata": {
  "kernelspec": {
   "display_name": "Python 3",
   "language": "python",
   "name": "python3"
  },
  "language_info": {
   "codemirror_mode": {
    "name": "ipython",
    "version": 3
   },
   "file_extension": ".py",
   "mimetype": "text/x-python",
   "name": "python",
   "nbconvert_exporter": "python",
   "pygments_lexer": "ipython3",
   "version": "3.7.3"
  }
 },
 "nbformat": 4,
 "nbformat_minor": 2
}
